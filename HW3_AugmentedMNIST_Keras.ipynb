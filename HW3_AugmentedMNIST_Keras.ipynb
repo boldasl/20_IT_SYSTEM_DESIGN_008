{
  "nbformat": 4,
  "nbformat_minor": 0,
  "metadata": {
    "colab": {
      "name": "Augmented_MNIST_Keras.ipynb",
      "provenance": [],
      "collapsed_sections": [],
      "include_colab_link": true
    },
    "kernelspec": {
      "name": "python3",
      "display_name": "Python 3"
    },
    "accelerator": "GPU"
  },
  "cells": [
    {
      "cell_type": "markdown",
      "metadata": {
        "id": "view-in-github",
        "colab_type": "text"
      },
      "source": [
        "<a href=\"https://colab.research.google.com/github/boldasl/20_IT_SYSTEM_DESIGN_008/blob/master/HW3_AugmentedMNIST_Keras.ipynb\" target=\"_parent\"><img src=\"https://colab.research.google.com/assets/colab-badge.svg\" alt=\"Open In Colab\"/></a>"
      ]
    },
    {
      "cell_type": "code",
      "metadata": {
        "id": "Z5d0kuqSjR04",
        "colab_type": "code",
        "outputId": "51ce0d01-58bc-4804-c786-db08608d2db3",
        "colab": {
          "base_uri": "https://localhost:8080/",
          "height": 51
        }
      },
      "source": [
        "import tensorflow as tf\n",
        "import numpy as np\n",
        "import matplotlib.pyplot as plt\n",
        "\n",
        "from tensorflow import keras\n",
        "from keras.datasets import mnist\n",
        "from keras.models import Sequential\n",
        "from keras import layers\n",
        "from keras.layers.convolutional import Conv2D, MaxPooling2D\n",
        "from keras.utils import to_categorical\n",
        "from keras.preprocessing.image import *\n",
        "\n",
        "print(\"# Tensorflow Version:\", tf.__version__)"
      ],
      "execution_count": 2,
      "outputs": [
        {
          "output_type": "stream",
          "text": [
            "# Tensorflow Version: 2.2.0\n"
          ],
          "name": "stdout"
        },
        {
          "output_type": "stream",
          "text": [
            "Using TensorFlow backend.\n"
          ],
          "name": "stderr"
        }
      ]
    },
    {
      "cell_type": "code",
      "metadata": {
        "id": "GpZF4-jPpk1H",
        "colab_type": "code",
        "colab": {}
      },
      "source": [
        "# data augmentation config\n",
        "RotationRange = 30\n",
        "ZoomRange = (1.3, 1.3)\n",
        "FlipRate = 0.3\n",
        "\n",
        "SavePath = \"./drive/My Drive/Colab Notebooks/param/Augmented_MNIST_Keras/weight.h5\"\n",
        "Mode = \"CNN\"\n",
        "TrainFlag = True\n"
      ],
      "execution_count": 0,
      "outputs": []
    },
    {
      "cell_type": "code",
      "metadata": {
        "id": "aIgMwm7hjy2K",
        "colab_type": "code",
        "outputId": "f7e2a5be-d308-4899-eab7-85c66ee49f53",
        "colab": {
          "base_uri": "https://localhost:8080/",
          "height": 51
        }
      },
      "source": [
        "# load mnist dataset\n",
        "((train_images, train_labels), (test_images, test_labels)) = mnist.load_data()\n",
        "\n",
        "train_images = train_images.reshape(-1, 28, 28, 1) / 255.0 # expand channel axis & normalize\n",
        "test_images = test_images.reshape(-1, 28, 28, 1) / 255.0\n",
        "train_labels = to_categorical(train_labels) # one-hot encoding\n",
        "test_labels = to_categorical(test_labels)"
      ],
      "execution_count": 4,
      "outputs": [
        {
          "output_type": "stream",
          "text": [
            "Downloading data from https://s3.amazonaws.com/img-datasets/mnist.npz\n",
            "11493376/11490434 [==============================] - 2s 0us/step\n"
          ],
          "name": "stdout"
        }
      ]
    },
    {
      "cell_type": "code",
      "metadata": {
        "id": "CKInNr2Xq7qz",
        "colab_type": "code",
        "outputId": "dabd7882-2468-4875-b118-6111c649cc94",
        "colab": {
          "base_uri": "https://localhost:8080/",
          "height": 51
        }
      },
      "source": [
        "# data augmentation\n",
        "_train_images = np.reshape(train_images, [-1, 28, 28, 1]) # reshape mnist to 3d array including channel axis\n",
        "train_images_aug = []\n",
        "_test_images = np.reshape(test_images, [-1, 28, 28, 1]) # reshape mnist to 3d array including channel axis\n",
        "test_images_aug = []\n",
        "\n",
        "# data augmentation\n",
        "# training data augmentation\n",
        "for idx in range(train_images.shape[0]): \n",
        "    temp = random_rotation(_train_images[idx], rg=RotationRange, row_axis=0, col_axis=1, channel_axis=2)\n",
        "    temp = random_zoom(temp, zoom_range=ZoomRange, row_axis=0, col_axis=1, channel_axis=2)\n",
        "    if np.random.rand() < FlipRate: temp = np.flip(temp, axis=1)\n",
        "    train_images_aug.append(temp)\n",
        "    if idx % 100 == 0: print(\"Train Image Augmentation Processing... {0:0.1f}%\\r\".format(idx/train_images.shape[0]*100), end='')\n",
        "print(\"Train Image Augmentation Complete!                         \")\n",
        "\n",
        "# test data augmentation\n",
        "for idx in range(test_images.shape[0]):\n",
        "    temp = random_rotation(_test_images[idx], rg=RotationRange, row_axis=0, col_axis=1, channel_axis=2)\n",
        "    temp = random_zoom(temp, zoom_range=ZoomRange, row_axis=0, col_axis=1, channel_axis=2)\n",
        "    if np.random.rand() < FlipRate: temp = np.flip(temp, axis=1)\n",
        "    test_images_aug.append(temp)\n",
        "    if idx % 100 == 0: print(\"Test Image Augmentation Processing... {0:0.1f}%\\r\".format(idx/train_images.shape[0]*100), end='')\n",
        "print(\"Test Image Augmentation Complete!                         \")\n",
        "\n",
        "# convert to numpy array\n",
        "train_images_aug = np.array(train_images_aug)\n",
        "test_images_aug = np.array(test_images_aug)"
      ],
      "execution_count": 5,
      "outputs": [
        {
          "output_type": "stream",
          "text": [
            "Train Image Augmentation Complete!                         \n",
            "Test Image Augmentation Complete!                         \n"
          ],
          "name": "stdout"
        }
      ]
    },
    {
      "cell_type": "code",
      "metadata": {
        "id": "ChQj3Nwll3TQ",
        "colab_type": "code",
        "colab": {}
      },
      "source": [
        "def CNN(summary=True):\n",
        "    model = Sequential()\n",
        "    temp = Conv2D(32, (5, 5, ), activation=\"relu\", input_shape=(28, 28, 1), padding=\"same\")\n",
        "    print(type(temp))\n",
        "    model.add(temp)\n",
        "    model.add(layers.MaxPooling2D((2, 2)))\n",
        "    model.add(Conv2D(64, (5, 5, ), activation=\"relu\", padding=\"same\"))\n",
        "    model.add(layers.MaxPooling2D((2, 2)))\n",
        "\n",
        "    model.add(layers.Flatten())\n",
        "    model.add(layers.Dense(1024, activation=\"relu\"))\n",
        "    model.add(layers.Dense(512, activation=\"relu\"))\n",
        "    model.add(layers.Dropout(0.5))\n",
        "    model.add(layers.Dense(10,activation=\"softmax\"))\n",
        "    if summary: print(model.summary())\n",
        "\n",
        "    return model\n",
        "\n",
        "def FC(summary=True):\n",
        "    model = Sequential()\n",
        "    model.add(layers.Dense(784, activation=\"relu\", input_shape=(784,)))\n",
        "    model.add(layers.Dense(392, activation=\"relu\"))\n",
        "    model.add(layers.Dense(10, activation=\"softmax\"))\n",
        "    if summary: print(model.summary())\n",
        "    return model"
      ],
      "execution_count": 0,
      "outputs": []
    },
    {
      "cell_type": "code",
      "metadata": {
        "id": "1PbV3nwwnq4s",
        "colab_type": "code",
        "outputId": "bf8aaf40-b005-467d-f535-bc749681590c",
        "colab": {
          "base_uri": "https://localhost:8080/",
          "height": 799
        }
      },
      "source": [
        "if Mode is \"CNN\":\n",
        "    train_images = train_images.reshape(-1, 28, 28, 1)\n",
        "    test_images = test_images.reshape(-1, 28, 28, 1)\n",
        "    train_images_aug = train_images_aug.reshape(-1, 28, 28, 1)\n",
        "    test_images_aug = test_images_aug.reshape(-1, 28, 28, 1)\n",
        "\n",
        "    nn = CNN(summary=True)\n",
        "\n",
        "elif Mode is \"FC\":\n",
        "    train_images = train_images.reshape(-1, 784)\n",
        "    test_images = test_images.reshape(-1, 784)\n",
        "    train_images_aug = train_images_aug.reshape(-1, 784)\n",
        "    test_images_aug = test_images_aug.reshape(-1, 784)\n",
        "\n",
        "    nn = FC(summary=True)\n",
        "nn.compile(optimizer='adam',loss='categorical_crossentropy', metrics=['accuracy']) \n",
        "\n",
        "if TrainFlag:\n",
        "    for _ in range(3):\n",
        "        nn.fit(train_images,train_labels, epochs=1, batch_size=100)\n",
        "        nn.fit(train_images_aug,train_labels, epochs=1, batch_size=100)\n",
        "    nn.save_weights(SavePath)\n",
        "else: nn.load_weights(SavePath)\n",
        "\n",
        "\n",
        "_, acc_orig = nn.evaluate(test_images,test_labels)\n",
        "_, acc_aug = nn.evaluate(test_images_aug, test_labels)\n",
        "\n",
        "print(\"\\nAccuracy\")\n",
        "print(\"Original : {0:0.4f}\".format(acc_orig))\n",
        "print(\"Augmented: {0:0.4f}\".format(acc_aug))"
      ],
      "execution_count": 7,
      "outputs": [
        {
          "output_type": "stream",
          "text": [
            "<class 'keras.layers.convolutional.Conv2D'>\n",
            "Model: \"sequential_1\"\n",
            "_________________________________________________________________\n",
            "Layer (type)                 Output Shape              Param #   \n",
            "=================================================================\n",
            "conv2d_1 (Conv2D)            (None, 28, 28, 32)        832       \n",
            "_________________________________________________________________\n",
            "max_pooling2d_1 (MaxPooling2 (None, 14, 14, 32)        0         \n",
            "_________________________________________________________________\n",
            "conv2d_2 (Conv2D)            (None, 14, 14, 64)        51264     \n",
            "_________________________________________________________________\n",
            "max_pooling2d_2 (MaxPooling2 (None, 7, 7, 64)          0         \n",
            "_________________________________________________________________\n",
            "flatten_1 (Flatten)          (None, 3136)              0         \n",
            "_________________________________________________________________\n",
            "dense_1 (Dense)              (None, 1024)              3212288   \n",
            "_________________________________________________________________\n",
            "dense_2 (Dense)              (None, 512)               524800    \n",
            "_________________________________________________________________\n",
            "dropout_1 (Dropout)          (None, 512)               0         \n",
            "_________________________________________________________________\n",
            "dense_3 (Dense)              (None, 10)                5130      \n",
            "=================================================================\n",
            "Total params: 3,794,314\n",
            "Trainable params: 3,794,314\n",
            "Non-trainable params: 0\n",
            "_________________________________________________________________\n",
            "None\n",
            "Epoch 1/1\n",
            "60000/60000 [==============================] - 16s 271us/step - loss: 0.1441 - accuracy: 0.9550\n",
            "Epoch 1/1\n",
            "60000/60000 [==============================] - 10s 169us/step - loss: 0.1651 - accuracy: 0.9507\n",
            "Epoch 1/1\n",
            "60000/60000 [==============================] - 10s 169us/step - loss: 0.0390 - accuracy: 0.9886\n",
            "Epoch 1/1\n",
            "60000/60000 [==============================] - 10s 170us/step - loss: 0.0764 - accuracy: 0.9764\n",
            "Epoch 1/1\n",
            "60000/60000 [==============================] - 10s 168us/step - loss: 0.0253 - accuracy: 0.9923\n",
            "Epoch 1/1\n",
            "60000/60000 [==============================] - 10s 169us/step - loss: 0.0497 - accuracy: 0.9846\n",
            "10000/10000 [==============================] - 1s 141us/step\n",
            "10000/10000 [==============================] - 1s 134us/step\n",
            "\n",
            "Accuracy\n",
            "Original : 0.9837\n",
            "Augmented: 0.9806\n"
          ],
          "name": "stdout"
        }
      ]
    }
  ]
}