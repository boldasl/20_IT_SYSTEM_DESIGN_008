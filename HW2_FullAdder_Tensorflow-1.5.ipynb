{
  "nbformat": 4,
  "nbformat_minor": 0,
  "metadata": {
    "colab": {
      "name": "FA_Tensorflow_1.5.ipynb",
      "provenance": [],
      "collapsed_sections": [],
      "include_colab_link": true
    },
    "kernelspec": {
      "name": "python3",
      "display_name": "Python 3"
    }
  },
  "cells": [
    {
      "cell_type": "markdown",
      "metadata": {
        "id": "view-in-github",
        "colab_type": "text"
      },
      "source": [
        "<a href=\"https://colab.research.google.com/github/boldasl/20_IT_SYSTEM_DESIGN_008/blob/master/HW2_FullAdder_Tensorflow-1.5.ipynb\" target=\"_parent\"><img src=\"https://colab.research.google.com/assets/colab-badge.svg\" alt=\"Open In Colab\"/></a>"
      ]
    },
    {
      "cell_type": "code",
      "metadata": {
        "id": "GqdpMuwXuLqI",
        "colab_type": "code",
        "colab": {}
      },
      "source": [
        "!pip uninstall tensorflow\n",
        "!pip install tensorflow==1.5\n",
        "!pip install \"numpy<1.17\""
      ],
      "execution_count": 0,
      "outputs": []
    },
    {
      "cell_type": "code",
      "metadata": {
        "id": "bU_6D-50uVPn",
        "colab_type": "code",
        "outputId": "98c3fc45-16f3-4b0a-f183-63b0b102e8ed",
        "colab": {
          "base_uri": "https://localhost:8080/",
          "height": 34
        }
      },
      "source": [
        "import tensorflow as tf\n",
        "import numpy as np\n",
        "import matplotlib.pyplot as plt\n",
        "import timeit\n",
        "\n",
        "print(\"# Tensorflow Version:\", tf.__version__)"
      ],
      "execution_count": 1,
      "outputs": [
        {
          "output_type": "stream",
          "text": [
            "# Tensorflow Version: 1.5.0\n"
          ],
          "name": "stdout"
        }
      ]
    },
    {
      "cell_type": "code",
      "metadata": {
        "id": "xWkA6PyAuWQ6",
        "colab_type": "code",
        "colab": {}
      },
      "source": [
        "# model configuration\n",
        "NumInputNode = 3\n",
        "NumOutputNode = 2\n",
        "NumHiddenLayer = 1\n",
        "NumHiddenNode = 3\n",
        "\n",
        "# learning configuration\n",
        "LearningRate = 0.3\n",
        "Epoch = 10000\n",
        "Activation = \"tanh\""
      ],
      "execution_count": 0,
      "outputs": []
    },
    {
      "cell_type": "code",
      "metadata": {
        "id": "LdTKhseAut7g",
        "colab_type": "code",
        "colab": {}
      },
      "source": [
        "# training data set\n",
        "train_data = [[-1, -1, -1], [-1, -1, 1], [-1, 1, -1], [-1, 1, 1], [1, -1, -1], [1, -1, 1], [1, 1, -1], [1, 1, 1]] # test input = [a, b, cin]\n",
        "train_label = [[-1, -1], [1, -1], [1, -1], [-1, 1], [1, -1], [-1, 1], [-1, 1], [1, 1]] # ground truth value = [sum, cout]\n",
        "train_data = np.array(train_data)\n",
        "train_label = np.array(train_label)"
      ],
      "execution_count": 0,
      "outputs": []
    },
    {
      "cell_type": "code",
      "metadata": {
        "id": "r2FkOcqnux7k",
        "colab_type": "code",
        "colab": {}
      },
      "source": [
        "# input & output init\n",
        "x = tf.placeholder(tf.float32, [None, NumInputNode])\n",
        "y = tf.placeholder(tf.float32, [None, NumOutputNode])\n",
        "\n",
        "# weight & bias init\n",
        "w_inputnode = tf.Variable(tf.random_normal([NumInputNode, NumHiddenNode]))\n",
        "if NumHiddenLayer > 1:\n",
        "    w_hiddennode = tf.Variable(tf.random_normal([NumHiddenLayer-1, NumHiddenNode, NumHiddenNode]))\n",
        "w_outputnode = tf.Variable(tf.random_normal([NumHiddenNode, NumOutputNode]))\n",
        "b_hiddennode = tf.Variable(tf.random_normal([NumHiddenLayer, NumHiddenNode]))\n",
        "b_outputnode = tf.Variable(tf.random_normal([NumOutputNode]))\n",
        "\n",
        "# model construction\n",
        "o_hidden = []\n",
        "if Activation == \"sigmoid\": o_hidden.append(tf.sigmoid(tf.matmul(x, w_inputnode) + b_hiddennode[0]))\n",
        "elif Activation == \"relu\": o_hidden.append(tf.nn.relu(tf.matmul(x, w_inputnode) + b_hiddennode[0]))\n",
        "elif Activation == \"tanh\": o_hidden.append(tf.tanh(tf.matmul(x, w_inputnode) + b_hiddennode[0]))\n",
        "if NumHiddenLayer > 1:\n",
        "    for idx_layer in range(NumHiddenLayer-1):\n",
        "        if Activation == \"sigmoid\": o_hidden.append(tf.sigmoid(tf.matmul(o_hidden[idx_layer], w_hiddennode[idx_layer]) + b_hiddennode[idx_layer+1]))\n",
        "        elif Activation == \"relu\": o_hidden.append(tf.nn.relu(tf.matmul(o_hidden[idx_layer], w_hiddennode[idx_layer]) + b_hiddennode[idx_layer+1]))\n",
        "        elif Activation == \"tanh\": o_hidden.append(tf.tanh(tf.matmul(o_hidden[idx_layer], w_hiddennode[idx_layer]) + b_hiddennode[idx_layer+1]))\n",
        "y_h = tf.tanh(tf.matmul(o_hidden[NumHiddenLayer-1], w_outputnode) + b_outputnode)\n",
        "\n"
      ],
      "execution_count": 0,
      "outputs": []
    },
    {
      "cell_type": "code",
      "metadata": {
        "id": "RupFG2slwMNX",
        "colab_type": "code",
        "colab": {}
      },
      "source": [
        "cost = tf.reduce_mean(tf.square(y - y_h)) # mean square error\n",
        "predicted = 2*tf.cast(y_h > 0, dtype=tf.float32)-1 # if y_h > 0, 1 else -1\n",
        "accuracy = tf.reduce_mean(tf.cast(tf.equal(predicted, y), dtype=tf.float32))\n",
        "\n",
        "init = tf.global_variables_initializer()\n",
        "sess = tf.Session()\n",
        "sess.run(init)"
      ],
      "execution_count": 0,
      "outputs": []
    },
    {
      "cell_type": "code",
      "metadata": {
        "id": "40BRi-qkxfXE",
        "colab_type": "code",
        "outputId": "30d15365-38df-4cc0-a7c8-cce111714f9e",
        "colab": {
          "base_uri": "https://localhost:8080/",
          "height": 487
        }
      },
      "source": [
        "train = tf.train.GradientDescentOptimizer(LearningRate).minimize(cost)\n",
        "\n",
        "print(\"< Neural Network Using Tensorflow 1.5 >\")\n",
        "print(\"# of InputNode  : {}   # of OutputNode: {}\".format(NumInputNode, NumOutputNode))\n",
        "print(\"# of HiddenLayer: {}   # of HiddenNode: {}\".format(NumHiddenLayer, NumHiddenNode))\n",
        "print(\"Activation Function: {}\\n\".format(Activation))\n",
        "\n",
        "# learning info\n",
        "print(\"Learning Information\")\n",
        "print(\"Epoch: {}, Learning Rate: {}\".format(Epoch, LearningRate))\n",
        "print(\"Learning Start!\")\n",
        "\n",
        "w_i = sess.run(w_inputnode)\n",
        "w_o = sess.run(w_outputnode)\n",
        "b_h = sess.run(b_hiddennode)\n",
        "b_o = sess.run(b_outputnode)\n",
        "\n",
        "loss = []\n",
        "before = timeit.default_timer()\n",
        "for idx_epoch in range(Epoch):\n",
        "    _, c = sess.run([train, cost], feed_dict={x:train_data, y:train_label})\n",
        "    loss.append(c)\n",
        "    if idx_epoch % 10 == 0:\n",
        "        print(\"{0:0.1f}%, Cost = {1:0.4f}\\r\".format(idx_epoch/Epoch*100, c), end='')\n",
        "print(\"100.0%, Cost = {0:0.4f}\\t\\t\".format(c))\n",
        "print(timeit.default_timer() - before, \"[s]\")\n",
        "\n",
        "test_data = train_data + np.random.normal(0, 0.1, size=train_data.shape)\n",
        "test_label = train_label\n",
        "\n",
        "print(\"Accuracy: {}\".format(sess.run(accuracy, feed_dict={x:test_data, y:test_label})))\n",
        "\n",
        "w_i = abs(w_i - sess.run(w_inputnode))\n",
        "w_o = abs(w_o - sess.run(w_outputnode))\n",
        "b_h = abs(b_h - sess.run(b_hiddennode))\n",
        "b_o = abs(b_o - sess.run(b_outputnode))\n",
        "\n",
        "\n",
        "plt.plot(range(Epoch), loss)\n",
        "plt.xlabel(\"Epoch\")\n",
        "plt.ylabel(\"Loss\")\n",
        "plt.xlim(0, Epoch)\n",
        "plt.ylim(0, 1.2)\n",
        "plt.show()\n",
        "'''\n",
        "print(np.sum(w_i))\n",
        "print(np.sum(w_o))\n",
        "print(np.sum(b_h))\n",
        "print(np.sum(b_o))\n",
        "'''"
      ],
      "execution_count": 6,
      "outputs": [
        {
          "output_type": "stream",
          "text": [
            "< Neural Network Using Tensorflow 1.5 >\n",
            "# of InputNode  : 3   # of OutputNode: 2\n",
            "# of HiddenLayer: 1   # of HiddenNode: 3\n",
            "Activation Function: tanh\n",
            "\n",
            "Learning Information\n",
            "Epoch: 10000, Learning Rate: 0.3\n",
            "Learning Start!\n",
            "100.0%, Cost = 0.0001\t\t\n",
            "4.66433447899999 [s]\n",
            "Accuracy: 1.0\n"
          ],
          "name": "stdout"
        },
        {
          "output_type": "display_data",
          "data": {
            "image/png": "[encoded data removed]",
            "text/plain": [
              "<Figure size 432x288 with 1 Axes>"
            ]
          },
          "metadata": {
            "tags": [],
            "needs_background": "light"
          }
        },
        {
          "output_type": "execute_result",
          "data": {
            "text/plain": [
              "'\\nprint(np.sum(w_i))\\nprint(np.sum(w_o))\\nprint(np.sum(b_h))\\nprint(np.sum(b_o))\\n'"
            ]
          },
          "metadata": {
            "tags": []
          },
          "execution_count": 6
        }
      ]
    }
  ]
}